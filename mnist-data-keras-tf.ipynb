{
 "cells": [
  {
   "cell_type": "code",
   "execution_count": 1,
   "id": "45ecae61",
   "metadata": {
    "_cell_guid": "b1076dfc-b9ad-4769-8c92-a6c4dae69d19",
    "_uuid": "8f2839f25d086af736a60e9eeb907d3b93b6e0e5",
    "execution": {
     "iopub.execute_input": "2022-05-10T06:34:11.807195Z",
     "iopub.status.busy": "2022-05-10T06:34:11.806268Z",
     "iopub.status.idle": "2022-05-10T06:34:11.819562Z",
     "shell.execute_reply": "2022-05-10T06:34:11.818857Z"
    },
    "papermill": {
     "duration": 0.056504,
     "end_time": "2022-05-10T06:34:11.821690",
     "exception": false,
     "start_time": "2022-05-10T06:34:11.765186",
     "status": "completed"
    },
    "tags": []
   },
   "outputs": [
    {
     "name": "stdout",
     "output_type": "stream",
     "text": [
      "/kaggle/input/digit-recognizer/sample_submission.csv\n",
      "/kaggle/input/digit-recognizer/train.csv\n",
      "/kaggle/input/digit-recognizer/test.csv\n"
     ]
    }
   ],
   "source": [
    "# This Python 3 environment comes with many helpful analytics libraries installed\n",
    "# It is defined by the kaggle/python Docker image: https://github.com/kaggle/docker-python\n",
    "# For example, here's several helpful packages to load\n",
    "\n",
    "import numpy as np # linear algebra\n",
    "import pandas as pd # data processing, CSV file I/O (e.g. pd.read_csv)\n",
    "\n",
    "# Input data files are available in the read-only \"../input/\" directory\n",
    "# For example, running this (by clicking run or pressing Shift+Enter) will list all files under the input directory\n",
    "\n",
    "import os\n",
    "for dirname, _, filenames in os.walk('/kaggle/input'):\n",
    "    for filename in filenames:\n",
    "        print(os.path.join(dirname, filename))\n",
    "\n",
    "# You can write up to 20GB to the current directory (/kaggle/working/) that gets preserved as output when you create a version using \"Save & Run All\" \n",
    "# You can also write temporary files to /kaggle/temp/, but they won't be saved outside of the current session"
   ]
  },
  {
   "cell_type": "code",
   "execution_count": 2,
   "id": "018495c1",
   "metadata": {
    "execution": {
     "iopub.execute_input": "2022-05-10T06:34:11.899873Z",
     "iopub.status.busy": "2022-05-10T06:34:11.899387Z",
     "iopub.status.idle": "2022-05-10T06:34:17.604694Z",
     "shell.execute_reply": "2022-05-10T06:34:17.603947Z"
    },
    "papermill": {
     "duration": 5.745153,
     "end_time": "2022-05-10T06:34:17.606811",
     "exception": false,
     "start_time": "2022-05-10T06:34:11.861658",
     "status": "completed"
    },
    "tags": []
   },
   "outputs": [],
   "source": [
    "import seaborn as sns\n",
    "from sklearn.model_selection import train_test_split\n",
    "import matplotlib.pyplot as plt\n",
    "from tensorflow.keras.utils import to_categorical\n",
    "from keras.models import Sequential\n",
    "from keras.layers import Dense, Dropout, Flatten\n",
    "from keras.layers import Conv2D, MaxPooling2D\n",
    "from keras.preprocessing.image import ImageDataGenerator\n",
    "from sklearn.metrics import ConfusionMatrixDisplay, confusion_matrix"
   ]
  },
  {
   "cell_type": "code",
   "execution_count": 3,
   "id": "7d131cc0",
   "metadata": {
    "execution": {
     "iopub.execute_input": "2022-05-10T06:34:17.683486Z",
     "iopub.status.busy": "2022-05-10T06:34:17.683250Z",
     "iopub.status.idle": "2022-05-10T06:34:22.320033Z",
     "shell.execute_reply": "2022-05-10T06:34:22.319278Z"
    },
    "papermill": {
     "duration": 4.677305,
     "end_time": "2022-05-10T06:34:22.322243",
     "exception": false,
     "start_time": "2022-05-10T06:34:17.644938",
     "status": "completed"
    },
    "tags": []
   },
   "outputs": [],
   "source": [
    "train_data = pd.read_csv('../input/digit-recognizer/train.csv')\n",
    "test_data = pd.read_csv('../input/digit-recognizer/test.csv')"
   ]
  },
  {
   "cell_type": "code",
   "execution_count": 4,
   "id": "efbc968f",
   "metadata": {
    "execution": {
     "iopub.execute_input": "2022-05-10T06:34:22.401951Z",
     "iopub.status.busy": "2022-05-10T06:34:22.401733Z",
     "iopub.status.idle": "2022-05-10T06:34:22.423431Z",
     "shell.execute_reply": "2022-05-10T06:34:22.422675Z"
    },
    "papermill": {
     "duration": 0.061575,
     "end_time": "2022-05-10T06:34:22.425733",
     "exception": false,
     "start_time": "2022-05-10T06:34:22.364158",
     "status": "completed"
    },
    "tags": []
   },
   "outputs": [
    {
     "data": {
      "text/html": [
       "<div>\n",
       "<style scoped>\n",
       "    .dataframe tbody tr th:only-of-type {\n",
       "        vertical-align: middle;\n",
       "    }\n",
       "\n",
       "    .dataframe tbody tr th {\n",
       "        vertical-align: top;\n",
       "    }\n",
       "\n",
       "    .dataframe thead th {\n",
       "        text-align: right;\n",
       "    }\n",
       "</style>\n",
       "<table border=\"1\" class=\"dataframe\">\n",
       "  <thead>\n",
       "    <tr style=\"text-align: right;\">\n",
       "      <th></th>\n",
       "      <th>label</th>\n",
       "      <th>pixel0</th>\n",
       "      <th>pixel1</th>\n",
       "      <th>pixel2</th>\n",
       "      <th>pixel3</th>\n",
       "      <th>pixel4</th>\n",
       "      <th>pixel5</th>\n",
       "      <th>pixel6</th>\n",
       "      <th>pixel7</th>\n",
       "      <th>pixel8</th>\n",
       "      <th>...</th>\n",
       "      <th>pixel774</th>\n",
       "      <th>pixel775</th>\n",
       "      <th>pixel776</th>\n",
       "      <th>pixel777</th>\n",
       "      <th>pixel778</th>\n",
       "      <th>pixel779</th>\n",
       "      <th>pixel780</th>\n",
       "      <th>pixel781</th>\n",
       "      <th>pixel782</th>\n",
       "      <th>pixel783</th>\n",
       "    </tr>\n",
       "  </thead>\n",
       "  <tbody>\n",
       "    <tr>\n",
       "      <th>0</th>\n",
       "      <td>1</td>\n",
       "      <td>0</td>\n",
       "      <td>0</td>\n",
       "      <td>0</td>\n",
       "      <td>0</td>\n",
       "      <td>0</td>\n",
       "      <td>0</td>\n",
       "      <td>0</td>\n",
       "      <td>0</td>\n",
       "      <td>0</td>\n",
       "      <td>...</td>\n",
       "      <td>0</td>\n",
       "      <td>0</td>\n",
       "      <td>0</td>\n",
       "      <td>0</td>\n",
       "      <td>0</td>\n",
       "      <td>0</td>\n",
       "      <td>0</td>\n",
       "      <td>0</td>\n",
       "      <td>0</td>\n",
       "      <td>0</td>\n",
       "    </tr>\n",
       "    <tr>\n",
       "      <th>1</th>\n",
       "      <td>0</td>\n",
       "      <td>0</td>\n",
       "      <td>0</td>\n",
       "      <td>0</td>\n",
       "      <td>0</td>\n",
       "      <td>0</td>\n",
       "      <td>0</td>\n",
       "      <td>0</td>\n",
       "      <td>0</td>\n",
       "      <td>0</td>\n",
       "      <td>...</td>\n",
       "      <td>0</td>\n",
       "      <td>0</td>\n",
       "      <td>0</td>\n",
       "      <td>0</td>\n",
       "      <td>0</td>\n",
       "      <td>0</td>\n",
       "      <td>0</td>\n",
       "      <td>0</td>\n",
       "      <td>0</td>\n",
       "      <td>0</td>\n",
       "    </tr>\n",
       "    <tr>\n",
       "      <th>2</th>\n",
       "      <td>1</td>\n",
       "      <td>0</td>\n",
       "      <td>0</td>\n",
       "      <td>0</td>\n",
       "      <td>0</td>\n",
       "      <td>0</td>\n",
       "      <td>0</td>\n",
       "      <td>0</td>\n",
       "      <td>0</td>\n",
       "      <td>0</td>\n",
       "      <td>...</td>\n",
       "      <td>0</td>\n",
       "      <td>0</td>\n",
       "      <td>0</td>\n",
       "      <td>0</td>\n",
       "      <td>0</td>\n",
       "      <td>0</td>\n",
       "      <td>0</td>\n",
       "      <td>0</td>\n",
       "      <td>0</td>\n",
       "      <td>0</td>\n",
       "    </tr>\n",
       "    <tr>\n",
       "      <th>3</th>\n",
       "      <td>4</td>\n",
       "      <td>0</td>\n",
       "      <td>0</td>\n",
       "      <td>0</td>\n",
       "      <td>0</td>\n",
       "      <td>0</td>\n",
       "      <td>0</td>\n",
       "      <td>0</td>\n",
       "      <td>0</td>\n",
       "      <td>0</td>\n",
       "      <td>...</td>\n",
       "      <td>0</td>\n",
       "      <td>0</td>\n",
       "      <td>0</td>\n",
       "      <td>0</td>\n",
       "      <td>0</td>\n",
       "      <td>0</td>\n",
       "      <td>0</td>\n",
       "      <td>0</td>\n",
       "      <td>0</td>\n",
       "      <td>0</td>\n",
       "    </tr>\n",
       "    <tr>\n",
       "      <th>4</th>\n",
       "      <td>0</td>\n",
       "      <td>0</td>\n",
       "      <td>0</td>\n",
       "      <td>0</td>\n",
       "      <td>0</td>\n",
       "      <td>0</td>\n",
       "      <td>0</td>\n",
       "      <td>0</td>\n",
       "      <td>0</td>\n",
       "      <td>0</td>\n",
       "      <td>...</td>\n",
       "      <td>0</td>\n",
       "      <td>0</td>\n",
       "      <td>0</td>\n",
       "      <td>0</td>\n",
       "      <td>0</td>\n",
       "      <td>0</td>\n",
       "      <td>0</td>\n",
       "      <td>0</td>\n",
       "      <td>0</td>\n",
       "      <td>0</td>\n",
       "    </tr>\n",
       "  </tbody>\n",
       "</table>\n",
       "<p>5 rows × 785 columns</p>\n",
       "</div>"
      ],
      "text/plain": [
       "   label  pixel0  pixel1  pixel2  pixel3  pixel4  pixel5  pixel6  pixel7  \\\n",
       "0      1       0       0       0       0       0       0       0       0   \n",
       "1      0       0       0       0       0       0       0       0       0   \n",
       "2      1       0       0       0       0       0       0       0       0   \n",
       "3      4       0       0       0       0       0       0       0       0   \n",
       "4      0       0       0       0       0       0       0       0       0   \n",
       "\n",
       "   pixel8  ...  pixel774  pixel775  pixel776  pixel777  pixel778  pixel779  \\\n",
       "0       0  ...         0         0         0         0         0         0   \n",
       "1       0  ...         0         0         0         0         0         0   \n",
       "2       0  ...         0         0         0         0         0         0   \n",
       "3       0  ...         0         0         0         0         0         0   \n",
       "4       0  ...         0         0         0         0         0         0   \n",
       "\n",
       "   pixel780  pixel781  pixel782  pixel783  \n",
       "0         0         0         0         0  \n",
       "1         0         0         0         0  \n",
       "2         0         0         0         0  \n",
       "3         0         0         0         0  \n",
       "4         0         0         0         0  \n",
       "\n",
       "[5 rows x 785 columns]"
      ]
     },
     "execution_count": 4,
     "metadata": {},
     "output_type": "execute_result"
    }
   ],
   "source": [
    "train_data.head()"
   ]
  },
  {
   "cell_type": "code",
   "execution_count": 5,
   "id": "60e8e056",
   "metadata": {
    "execution": {
     "iopub.execute_input": "2022-05-10T06:34:22.500900Z",
     "iopub.status.busy": "2022-05-10T06:34:22.500702Z",
     "iopub.status.idle": "2022-05-10T06:34:22.505526Z",
     "shell.execute_reply": "2022-05-10T06:34:22.504751Z"
    },
    "papermill": {
     "duration": 0.045358,
     "end_time": "2022-05-10T06:34:22.508058",
     "exception": false,
     "start_time": "2022-05-10T06:34:22.462700",
     "status": "completed"
    },
    "tags": []
   },
   "outputs": [
    {
     "data": {
      "text/plain": [
       "(42000, 785)"
      ]
     },
     "execution_count": 5,
     "metadata": {},
     "output_type": "execute_result"
    }
   ],
   "source": [
    "train_data.shape"
   ]
  },
  {
   "cell_type": "code",
   "execution_count": 6,
   "id": "3c350716",
   "metadata": {
    "execution": {
     "iopub.execute_input": "2022-05-10T06:34:22.583780Z",
     "iopub.status.busy": "2022-05-10T06:34:22.583596Z",
     "iopub.status.idle": "2022-05-10T06:34:22.597584Z",
     "shell.execute_reply": "2022-05-10T06:34:22.596816Z"
    },
    "papermill": {
     "duration": 0.05463,
     "end_time": "2022-05-10T06:34:22.600203",
     "exception": false,
     "start_time": "2022-05-10T06:34:22.545573",
     "status": "completed"
    },
    "tags": []
   },
   "outputs": [
    {
     "data": {
      "text/html": [
       "<div>\n",
       "<style scoped>\n",
       "    .dataframe tbody tr th:only-of-type {\n",
       "        vertical-align: middle;\n",
       "    }\n",
       "\n",
       "    .dataframe tbody tr th {\n",
       "        vertical-align: top;\n",
       "    }\n",
       "\n",
       "    .dataframe thead th {\n",
       "        text-align: right;\n",
       "    }\n",
       "</style>\n",
       "<table border=\"1\" class=\"dataframe\">\n",
       "  <thead>\n",
       "    <tr style=\"text-align: right;\">\n",
       "      <th></th>\n",
       "      <th>pixel0</th>\n",
       "      <th>pixel1</th>\n",
       "      <th>pixel2</th>\n",
       "      <th>pixel3</th>\n",
       "      <th>pixel4</th>\n",
       "      <th>pixel5</th>\n",
       "      <th>pixel6</th>\n",
       "      <th>pixel7</th>\n",
       "      <th>pixel8</th>\n",
       "      <th>pixel9</th>\n",
       "      <th>...</th>\n",
       "      <th>pixel774</th>\n",
       "      <th>pixel775</th>\n",
       "      <th>pixel776</th>\n",
       "      <th>pixel777</th>\n",
       "      <th>pixel778</th>\n",
       "      <th>pixel779</th>\n",
       "      <th>pixel780</th>\n",
       "      <th>pixel781</th>\n",
       "      <th>pixel782</th>\n",
       "      <th>pixel783</th>\n",
       "    </tr>\n",
       "  </thead>\n",
       "  <tbody>\n",
       "    <tr>\n",
       "      <th>0</th>\n",
       "      <td>0</td>\n",
       "      <td>0</td>\n",
       "      <td>0</td>\n",
       "      <td>0</td>\n",
       "      <td>0</td>\n",
       "      <td>0</td>\n",
       "      <td>0</td>\n",
       "      <td>0</td>\n",
       "      <td>0</td>\n",
       "      <td>0</td>\n",
       "      <td>...</td>\n",
       "      <td>0</td>\n",
       "      <td>0</td>\n",
       "      <td>0</td>\n",
       "      <td>0</td>\n",
       "      <td>0</td>\n",
       "      <td>0</td>\n",
       "      <td>0</td>\n",
       "      <td>0</td>\n",
       "      <td>0</td>\n",
       "      <td>0</td>\n",
       "    </tr>\n",
       "    <tr>\n",
       "      <th>1</th>\n",
       "      <td>0</td>\n",
       "      <td>0</td>\n",
       "      <td>0</td>\n",
       "      <td>0</td>\n",
       "      <td>0</td>\n",
       "      <td>0</td>\n",
       "      <td>0</td>\n",
       "      <td>0</td>\n",
       "      <td>0</td>\n",
       "      <td>0</td>\n",
       "      <td>...</td>\n",
       "      <td>0</td>\n",
       "      <td>0</td>\n",
       "      <td>0</td>\n",
       "      <td>0</td>\n",
       "      <td>0</td>\n",
       "      <td>0</td>\n",
       "      <td>0</td>\n",
       "      <td>0</td>\n",
       "      <td>0</td>\n",
       "      <td>0</td>\n",
       "    </tr>\n",
       "    <tr>\n",
       "      <th>2</th>\n",
       "      <td>0</td>\n",
       "      <td>0</td>\n",
       "      <td>0</td>\n",
       "      <td>0</td>\n",
       "      <td>0</td>\n",
       "      <td>0</td>\n",
       "      <td>0</td>\n",
       "      <td>0</td>\n",
       "      <td>0</td>\n",
       "      <td>0</td>\n",
       "      <td>...</td>\n",
       "      <td>0</td>\n",
       "      <td>0</td>\n",
       "      <td>0</td>\n",
       "      <td>0</td>\n",
       "      <td>0</td>\n",
       "      <td>0</td>\n",
       "      <td>0</td>\n",
       "      <td>0</td>\n",
       "      <td>0</td>\n",
       "      <td>0</td>\n",
       "    </tr>\n",
       "    <tr>\n",
       "      <th>3</th>\n",
       "      <td>0</td>\n",
       "      <td>0</td>\n",
       "      <td>0</td>\n",
       "      <td>0</td>\n",
       "      <td>0</td>\n",
       "      <td>0</td>\n",
       "      <td>0</td>\n",
       "      <td>0</td>\n",
       "      <td>0</td>\n",
       "      <td>0</td>\n",
       "      <td>...</td>\n",
       "      <td>0</td>\n",
       "      <td>0</td>\n",
       "      <td>0</td>\n",
       "      <td>0</td>\n",
       "      <td>0</td>\n",
       "      <td>0</td>\n",
       "      <td>0</td>\n",
       "      <td>0</td>\n",
       "      <td>0</td>\n",
       "      <td>0</td>\n",
       "    </tr>\n",
       "    <tr>\n",
       "      <th>4</th>\n",
       "      <td>0</td>\n",
       "      <td>0</td>\n",
       "      <td>0</td>\n",
       "      <td>0</td>\n",
       "      <td>0</td>\n",
       "      <td>0</td>\n",
       "      <td>0</td>\n",
       "      <td>0</td>\n",
       "      <td>0</td>\n",
       "      <td>0</td>\n",
       "      <td>...</td>\n",
       "      <td>0</td>\n",
       "      <td>0</td>\n",
       "      <td>0</td>\n",
       "      <td>0</td>\n",
       "      <td>0</td>\n",
       "      <td>0</td>\n",
       "      <td>0</td>\n",
       "      <td>0</td>\n",
       "      <td>0</td>\n",
       "      <td>0</td>\n",
       "    </tr>\n",
       "  </tbody>\n",
       "</table>\n",
       "<p>5 rows × 784 columns</p>\n",
       "</div>"
      ],
      "text/plain": [
       "   pixel0  pixel1  pixel2  pixel3  pixel4  pixel5  pixel6  pixel7  pixel8  \\\n",
       "0       0       0       0       0       0       0       0       0       0   \n",
       "1       0       0       0       0       0       0       0       0       0   \n",
       "2       0       0       0       0       0       0       0       0       0   \n",
       "3       0       0       0       0       0       0       0       0       0   \n",
       "4       0       0       0       0       0       0       0       0       0   \n",
       "\n",
       "   pixel9  ...  pixel774  pixel775  pixel776  pixel777  pixel778  pixel779  \\\n",
       "0       0  ...         0         0         0         0         0         0   \n",
       "1       0  ...         0         0         0         0         0         0   \n",
       "2       0  ...         0         0         0         0         0         0   \n",
       "3       0  ...         0         0         0         0         0         0   \n",
       "4       0  ...         0         0         0         0         0         0   \n",
       "\n",
       "   pixel780  pixel781  pixel782  pixel783  \n",
       "0         0         0         0         0  \n",
       "1         0         0         0         0  \n",
       "2         0         0         0         0  \n",
       "3         0         0         0         0  \n",
       "4         0         0         0         0  \n",
       "\n",
       "[5 rows x 784 columns]"
      ]
     },
     "execution_count": 6,
     "metadata": {},
     "output_type": "execute_result"
    }
   ],
   "source": [
    "test_data.head()"
   ]
  },
  {
   "cell_type": "code",
   "execution_count": 7,
   "id": "1874fa79",
   "metadata": {
    "execution": {
     "iopub.execute_input": "2022-05-10T06:34:22.677288Z",
     "iopub.status.busy": "2022-05-10T06:34:22.677078Z",
     "iopub.status.idle": "2022-05-10T06:34:22.682033Z",
     "shell.execute_reply": "2022-05-10T06:34:22.681368Z"
    },
    "papermill": {
     "duration": 0.045727,
     "end_time": "2022-05-10T06:34:22.683947",
     "exception": false,
     "start_time": "2022-05-10T06:34:22.638220",
     "status": "completed"
    },
    "tags": []
   },
   "outputs": [
    {
     "data": {
      "text/plain": [
       "(28000, 784)"
      ]
     },
     "execution_count": 7,
     "metadata": {},
     "output_type": "execute_result"
    }
   ],
   "source": [
    "test_data.shape"
   ]
  },
  {
   "cell_type": "code",
   "execution_count": 8,
   "id": "b4cd1f5d",
   "metadata": {
    "execution": {
     "iopub.execute_input": "2022-05-10T06:34:22.761714Z",
     "iopub.status.busy": "2022-05-10T06:34:22.761355Z",
     "iopub.status.idle": "2022-05-10T06:34:22.847184Z",
     "shell.execute_reply": "2022-05-10T06:34:22.846380Z"
    },
    "papermill": {
     "duration": 0.126897,
     "end_time": "2022-05-10T06:34:22.849003",
     "exception": false,
     "start_time": "2022-05-10T06:34:22.722106",
     "status": "completed"
    },
    "tags": []
   },
   "outputs": [],
   "source": [
    "train_x = train_data.drop(\"label\", axis=1)\n",
    "train_y = train_data['label']"
   ]
  },
  {
   "cell_type": "code",
   "execution_count": 9,
   "id": "622f2cdd",
   "metadata": {
    "execution": {
     "iopub.execute_input": "2022-05-10T06:34:22.927417Z",
     "iopub.status.busy": "2022-05-10T06:34:22.927163Z",
     "iopub.status.idle": "2022-05-10T06:34:23.145896Z",
     "shell.execute_reply": "2022-05-10T06:34:23.145227Z"
    },
    "papermill": {
     "duration": 0.259949,
     "end_time": "2022-05-10T06:34:23.147564",
     "exception": false,
     "start_time": "2022-05-10T06:34:22.887615",
     "status": "completed"
    },
    "tags": []
   },
   "outputs": [
    {
     "data": {
      "text/plain": [
       "<AxesSubplot:xlabel='label', ylabel='count'>"
      ]
     },
     "execution_count": 9,
     "metadata": {},
     "output_type": "execute_result"
    },
    {
     "data": {
      "image/png": "[encoded data removed]",
      "text/plain": [
       "<Figure size 432x288 with 1 Axes>"
      ]
     },
     "metadata": {
      "needs_background": "light"
     },
     "output_type": "display_data"
    }
   ],
   "source": [
    "sns.countplot(x=train_y)"
   ]
  },
  {
   "cell_type": "code",
   "execution_count": 10,
   "id": "067e7b9e",
   "metadata": {
    "execution": {
     "iopub.execute_input": "2022-05-10T06:34:23.230689Z",
     "iopub.status.busy": "2022-05-10T06:34:23.230305Z",
     "iopub.status.idle": "2022-05-10T06:34:23.238458Z",
     "shell.execute_reply": "2022-05-10T06:34:23.237682Z"
    },
    "papermill": {
     "duration": 0.054285,
     "end_time": "2022-05-10T06:34:23.241324",
     "exception": false,
     "start_time": "2022-05-10T06:34:23.187039",
     "status": "completed"
    },
    "tags": []
   },
   "outputs": [
    {
     "data": {
      "text/plain": [
       "1    4684\n",
       "7    4401\n",
       "3    4351\n",
       "9    4188\n",
       "2    4177\n",
       "6    4137\n",
       "0    4132\n",
       "4    4072\n",
       "8    4063\n",
       "5    3795\n",
       "Name: label, dtype: int64"
      ]
     },
     "execution_count": 10,
     "metadata": {},
     "output_type": "execute_result"
    }
   ],
   "source": [
    "train_y.value_counts()"
   ]
  },
  {
   "cell_type": "code",
   "execution_count": 11,
   "id": "d9ff4a2d",
   "metadata": {
    "execution": {
     "iopub.execute_input": "2022-05-10T06:34:23.330063Z",
     "iopub.status.busy": "2022-05-10T06:34:23.329860Z",
     "iopub.status.idle": "2022-05-10T06:34:23.347611Z",
     "shell.execute_reply": "2022-05-10T06:34:23.346814Z"
    },
    "papermill": {
     "duration": 0.064337,
     "end_time": "2022-05-10T06:34:23.349566",
     "exception": false,
     "start_time": "2022-05-10T06:34:23.285229",
     "status": "completed"
    },
    "tags": []
   },
   "outputs": [
    {
     "data": {
      "text/plain": [
       "count       784\n",
       "unique        1\n",
       "top       False\n",
       "freq        784\n",
       "dtype: object"
      ]
     },
     "execution_count": 11,
     "metadata": {},
     "output_type": "execute_result"
    }
   ],
   "source": [
    "train_x.isnull().any().describe()"
   ]
  },
  {
   "cell_type": "code",
   "execution_count": 12,
   "id": "1c289fda",
   "metadata": {
    "execution": {
     "iopub.execute_input": "2022-05-10T06:34:23.433997Z",
     "iopub.status.busy": "2022-05-10T06:34:23.433805Z",
     "iopub.status.idle": "2022-05-10T06:34:23.439614Z",
     "shell.execute_reply": "2022-05-10T06:34:23.438969Z"
    },
    "papermill": {
     "duration": 0.048248,
     "end_time": "2022-05-10T06:34:23.441365",
     "exception": false,
     "start_time": "2022-05-10T06:34:23.393117",
     "status": "completed"
    },
    "tags": []
   },
   "outputs": [
    {
     "data": {
      "text/plain": [
       "False"
      ]
     },
     "execution_count": 12,
     "metadata": {},
     "output_type": "execute_result"
    }
   ],
   "source": [
    "train_y.isnull().any()"
   ]
  },
  {
   "cell_type": "code",
   "execution_count": 13,
   "id": "430753ba",
   "metadata": {
    "execution": {
     "iopub.execute_input": "2022-05-10T06:34:23.522954Z",
     "iopub.status.busy": "2022-05-10T06:34:23.522755Z",
     "iopub.status.idle": "2022-05-10T06:34:23.536546Z",
     "shell.execute_reply": "2022-05-10T06:34:23.535773Z"
    },
    "papermill": {
     "duration": 0.056341,
     "end_time": "2022-05-10T06:34:23.538282",
     "exception": false,
     "start_time": "2022-05-10T06:34:23.481941",
     "status": "completed"
    },
    "tags": []
   },
   "outputs": [
    {
     "data": {
      "text/plain": [
       "count       784\n",
       "unique        1\n",
       "top       False\n",
       "freq        784\n",
       "dtype: object"
      ]
     },
     "execution_count": 13,
     "metadata": {},
     "output_type": "execute_result"
    }
   ],
   "source": [
    "test_data.isnull().any().describe()"
   ]
  },
  {
   "cell_type": "markdown",
   "id": "5e4190e4",
   "metadata": {
    "papermill": {
     "duration": 0.041111,
     "end_time": "2022-05-10T06:34:23.620324",
     "exception": false,
     "start_time": "2022-05-10T06:34:23.579213",
     "status": "completed"
    },
    "tags": []
   },
   "source": [
    "Normalize Data (Preprocessing) </br>\n",
    "Data will be in range of [0-1] </br>\n",
    "Min : 0</br>\n",
    "Max : 1</br>"
   ]
  },
  {
   "cell_type": "code",
   "execution_count": 14,
   "id": "60afd438",
   "metadata": {
    "execution": {
     "iopub.execute_input": "2022-05-10T06:34:23.702815Z",
     "iopub.status.busy": "2022-05-10T06:34:23.702605Z",
     "iopub.status.idle": "2022-05-10T06:34:23.863308Z",
     "shell.execute_reply": "2022-05-10T06:34:23.862575Z"
    },
    "papermill": {
     "duration": 0.204185,
     "end_time": "2022-05-10T06:34:23.865332",
     "exception": false,
     "start_time": "2022-05-10T06:34:23.661147",
     "status": "completed"
    },
    "tags": []
   },
   "outputs": [],
   "source": [
    "norm_train_x = train_x / 255.0\n",
    "norm_test_data = test_data / 255.0"
   ]
  },
  {
   "cell_type": "markdown",
   "id": "1a5083b3",
   "metadata": {
    "execution": {
     "iopub.execute_input": "2022-05-09T07:34:27.737577Z",
     "iopub.status.busy": "2022-05-09T07:34:27.736528Z",
     "iopub.status.idle": "2022-05-09T07:34:27.745776Z",
     "shell.execute_reply": "2022-05-09T07:34:27.745103Z",
     "shell.execute_reply.started": "2022-05-09T07:34:27.737492Z"
    },
    "papermill": {
     "duration": 0.040773,
     "end_time": "2022-05-10T06:34:23.947673",
     "exception": false,
     "start_time": "2022-05-10T06:34:23.906900",
     "status": "completed"
    },
    "tags": []
   },
   "source": [
    "Reshape Data</br>\n",
    "(28000,784) -> (28000,28,28,1)</br>\n",
    "Note : 1 is the channel</br>\n",
    "As the image is grayscale(black & white), channel is only 1, whereas colored image have 3 channels (rgb)"
   ]
  },
  {
   "cell_type": "code",
   "execution_count": 15,
   "id": "93b69daa",
   "metadata": {
    "execution": {
     "iopub.execute_input": "2022-05-10T06:34:24.030951Z",
     "iopub.status.busy": "2022-05-10T06:34:24.030727Z",
     "iopub.status.idle": "2022-05-10T06:34:24.035040Z",
     "shell.execute_reply": "2022-05-10T06:34:24.034282Z"
    },
    "papermill": {
     "duration": 0.048533,
     "end_time": "2022-05-10T06:34:24.036967",
     "exception": false,
     "start_time": "2022-05-10T06:34:23.988434",
     "status": "completed"
    },
    "tags": []
   },
   "outputs": [],
   "source": [
    "norm_train_x = norm_train_x.values.reshape(norm_train_x.shape[0],28,28,1)\n",
    "norm_test_data = norm_test_data.values.reshape(norm_test_data.shape[0],28,28,1)"
   ]
  },
  {
   "cell_type": "code",
   "execution_count": 16,
   "id": "c01683d6",
   "metadata": {
    "execution": {
     "iopub.execute_input": "2022-05-10T06:34:24.120671Z",
     "iopub.status.busy": "2022-05-10T06:34:24.120483Z",
     "iopub.status.idle": "2022-05-10T06:34:25.542818Z",
     "shell.execute_reply": "2022-05-10T06:34:25.542150Z"
    },
    "papermill": {
     "duration": 1.466566,
     "end_time": "2022-05-10T06:34:25.544649",
     "exception": false,
     "start_time": "2022-05-10T06:34:24.078083",
     "status": "completed"
    },
    "tags": []
   },
   "outputs": [
    {
     "data": {
      "image/png": "[encoded data removed]",
      "text/plain": [
       "<Figure size 720x1080 with 15 Axes>"
      ]
     },
     "metadata": {
      "needs_background": "light"
     },
     "output_type": "display_data"
    }
   ],
   "source": [
    "plt.figure(figsize=(10,15))\n",
    "for i in range(15):  \n",
    "    plt.subplot(5,3,i+1)\n",
    "    plt.imshow(norm_train_x[i], cmap='gray')\n",
    "    plt.title(train_y[i])\n",
    "plt.show()"
   ]
  },
  {
   "cell_type": "markdown",
   "id": "096d6422",
   "metadata": {
    "papermill": {
     "duration": 0.042194,
     "end_time": "2022-05-10T06:34:25.628853",
     "exception": false,
     "start_time": "2022-05-10T06:34:25.586659",
     "status": "completed"
    },
    "tags": []
   },
   "source": [
    "One hot encoding for labels"
   ]
  },
  {
   "cell_type": "code",
   "execution_count": 17,
   "id": "c0257dd8",
   "metadata": {
    "execution": {
     "iopub.execute_input": "2022-05-10T06:34:25.713846Z",
     "iopub.status.busy": "2022-05-10T06:34:25.713618Z",
     "iopub.status.idle": "2022-05-10T06:34:25.717994Z",
     "shell.execute_reply": "2022-05-10T06:34:25.717250Z"
    },
    "papermill": {
     "duration": 0.048782,
     "end_time": "2022-05-10T06:34:25.719790",
     "exception": false,
     "start_time": "2022-05-10T06:34:25.671008",
     "status": "completed"
    },
    "tags": []
   },
   "outputs": [],
   "source": [
    "# Creates one hot encoding for labels\n",
    "# num_classes = 10 (digits 0-9)\n",
    "train_y = to_categorical(train_y, num_classes=10)"
   ]
  },
  {
   "cell_type": "code",
   "execution_count": 18,
   "id": "b455b114",
   "metadata": {
    "execution": {
     "iopub.execute_input": "2022-05-10T06:34:25.805249Z",
     "iopub.status.busy": "2022-05-10T06:34:25.805043Z",
     "iopub.status.idle": "2022-05-10T06:34:26.729142Z",
     "shell.execute_reply": "2022-05-10T06:34:26.728415Z"
    },
    "papermill": {
     "duration": 0.96956,
     "end_time": "2022-05-10T06:34:26.731666",
     "exception": false,
     "start_time": "2022-05-10T06:34:25.762106",
     "status": "completed"
    },
    "tags": []
   },
   "outputs": [],
   "source": [
    "x_train, x_val, y_train, y_val = train_test_split(norm_train_x, train_y, test_size=0.2 ,random_state=30, stratify=train_y)"
   ]
  },
  {
   "cell_type": "code",
   "execution_count": 19,
   "id": "9d3c3223",
   "metadata": {
    "execution": {
     "iopub.execute_input": "2022-05-10T06:34:26.817827Z",
     "iopub.status.busy": "2022-05-10T06:34:26.817612Z",
     "iopub.status.idle": "2022-05-10T06:34:26.822609Z",
     "shell.execute_reply": "2022-05-10T06:34:26.821833Z"
    },
    "papermill": {
     "duration": 0.050832,
     "end_time": "2022-05-10T06:34:26.825153",
     "exception": false,
     "start_time": "2022-05-10T06:34:26.774321",
     "status": "completed"
    },
    "tags": []
   },
   "outputs": [
    {
     "data": {
      "text/plain": [
       "(33600, 28, 28, 1)"
      ]
     },
     "execution_count": 19,
     "metadata": {},
     "output_type": "execute_result"
    }
   ],
   "source": [
    "x_train.shape"
   ]
  },
  {
   "cell_type": "code",
   "execution_count": 20,
   "id": "cb98b495",
   "metadata": {
    "execution": {
     "iopub.execute_input": "2022-05-10T06:34:26.909880Z",
     "iopub.status.busy": "2022-05-10T06:34:26.909695Z",
     "iopub.status.idle": "2022-05-10T06:34:26.914408Z",
     "shell.execute_reply": "2022-05-10T06:34:26.913655Z"
    },
    "papermill": {
     "duration": 0.05003,
     "end_time": "2022-05-10T06:34:26.916940",
     "exception": false,
     "start_time": "2022-05-10T06:34:26.866910",
     "status": "completed"
    },
    "tags": []
   },
   "outputs": [
    {
     "data": {
      "text/plain": [
       "(8400, 28, 28, 1)"
      ]
     },
     "execution_count": 20,
     "metadata": {},
     "output_type": "execute_result"
    }
   ],
   "source": [
    "x_val.shape"
   ]
  },
  {
   "cell_type": "code",
   "execution_count": 21,
   "id": "a4bd9b2e",
   "metadata": {
    "execution": {
     "iopub.execute_input": "2022-05-10T06:34:27.003753Z",
     "iopub.status.busy": "2022-05-10T06:34:27.003374Z",
     "iopub.status.idle": "2022-05-10T06:34:29.406108Z",
     "shell.execute_reply": "2022-05-10T06:34:29.405440Z"
    },
    "papermill": {
     "duration": 2.448394,
     "end_time": "2022-05-10T06:34:29.408197",
     "exception": false,
     "start_time": "2022-05-10T06:34:26.959803",
     "status": "completed"
    },
    "tags": []
   },
   "outputs": [
    {
     "name": "stderr",
     "output_type": "stream",
     "text": [
      "2022-05-10 06:34:27.101520: I tensorflow/stream_executor/cuda/cuda_gpu_executor.cc:937] successful NUMA node read from SysFS had negative value (-1), but there must be at least one NUMA node, so returning NUMA node zero\n",
      "2022-05-10 06:34:27.195620: I tensorflow/stream_executor/cuda/cuda_gpu_executor.cc:937] successful NUMA node read from SysFS had negative value (-1), but there must be at least one NUMA node, so returning NUMA node zero\n",
      "2022-05-10 06:34:27.196376: I tensorflow/stream_executor/cuda/cuda_gpu_executor.cc:937] successful NUMA node read from SysFS had negative value (-1), but there must be at least one NUMA node, so returning NUMA node zero\n",
      "2022-05-10 06:34:27.197529: I tensorflow/core/platform/cpu_feature_guard.cc:142] This TensorFlow binary is optimized with oneAPI Deep Neural Network Library (oneDNN) to use the following CPU instructions in performance-critical operations:  AVX2 AVX512F FMA\n",
      "To enable them in other operations, rebuild TensorFlow with the appropriate compiler flags.\n",
      "2022-05-10 06:34:27.197805: I tensorflow/stream_executor/cuda/cuda_gpu_executor.cc:937] successful NUMA node read from SysFS had negative value (-1), but there must be at least one NUMA node, so returning NUMA node zero\n",
      "2022-05-10 06:34:27.198494: I tensorflow/stream_executor/cuda/cuda_gpu_executor.cc:937] successful NUMA node read from SysFS had negative value (-1), but there must be at least one NUMA node, so returning NUMA node zero\n",
      "2022-05-10 06:34:27.199127: I tensorflow/stream_executor/cuda/cuda_gpu_executor.cc:937] successful NUMA node read from SysFS had negative value (-1), but there must be at least one NUMA node, so returning NUMA node zero\n",
      "2022-05-10 06:34:28.869925: I tensorflow/stream_executor/cuda/cuda_gpu_executor.cc:937] successful NUMA node read from SysFS had negative value (-1), but there must be at least one NUMA node, so returning NUMA node zero\n",
      "2022-05-10 06:34:28.870822: I tensorflow/stream_executor/cuda/cuda_gpu_executor.cc:937] successful NUMA node read from SysFS had negative value (-1), but there must be at least one NUMA node, so returning NUMA node zero\n",
      "2022-05-10 06:34:28.871536: I tensorflow/stream_executor/cuda/cuda_gpu_executor.cc:937] successful NUMA node read from SysFS had negative value (-1), but there must be at least one NUMA node, so returning NUMA node zero\n",
      "2022-05-10 06:34:28.872978: I tensorflow/core/common_runtime/gpu/gpu_device.cc:1510] Created device /job:localhost/replica:0/task:0/device:GPU:0 with 15403 MB memory:  -> device: 0, name: Tesla P100-PCIE-16GB, pci bus id: 0000:00:04.0, compute capability: 6.0\n"
     ]
    }
   ],
   "source": [
    "model_no_dropout = Sequential([\n",
    "    Conv2D(filters=64, kernel_size=3,activation='relu',input_shape=(28,28,1)),\n",
    "    MaxPooling2D(pool_size=(2,2)),\n",
    "    \n",
    "    Conv2D(filters=32, kernel_size=3,activation='relu',input_shape=(28,28,1)),\n",
    "    MaxPooling2D(pool_size=(2,2)),\n",
    "    \n",
    "    Flatten(),\n",
    "    Dense(64,activation=\"relu\"),\n",
    "    Dense(10, activation=\"softmax\")\n",
    "])"
   ]
  },
  {
   "cell_type": "code",
   "execution_count": 22,
   "id": "692134b0",
   "metadata": {
    "execution": {
     "iopub.execute_input": "2022-05-10T06:34:29.495577Z",
     "iopub.status.busy": "2022-05-10T06:34:29.495360Z",
     "iopub.status.idle": "2022-05-10T06:34:29.503520Z",
     "shell.execute_reply": "2022-05-10T06:34:29.502807Z"
    },
    "papermill": {
     "duration": 0.054556,
     "end_time": "2022-05-10T06:34:29.506277",
     "exception": false,
     "start_time": "2022-05-10T06:34:29.451721",
     "status": "completed"
    },
    "tags": []
   },
   "outputs": [
    {
     "name": "stdout",
     "output_type": "stream",
     "text": [
      "Model: \"sequential\"\n",
      "_________________________________________________________________\n",
      "Layer (type)                 Output Shape              Param #   \n",
      "=================================================================\n",
      "conv2d (Conv2D)              (None, 26, 26, 64)        640       \n",
      "_________________________________________________________________\n",
      "max_pooling2d (MaxPooling2D) (None, 13, 13, 64)        0         \n",
      "_________________________________________________________________\n",
      "conv2d_1 (Conv2D)            (None, 11, 11, 32)        18464     \n",
      "_________________________________________________________________\n",
      "max_pooling2d_1 (MaxPooling2 (None, 5, 5, 32)          0         \n",
      "_________________________________________________________________\n",
      "flatten (Flatten)            (None, 800)               0         \n",
      "_________________________________________________________________\n",
      "dense (Dense)                (None, 64)                51264     \n",
      "_________________________________________________________________\n",
      "dense_1 (Dense)              (None, 10)                650       \n",
      "=================================================================\n",
      "Total params: 71,018\n",
      "Trainable params: 71,018\n",
      "Non-trainable params: 0\n",
      "_________________________________________________________________\n"
     ]
    }
   ],
   "source": [
    "model_no_dropout.summary()"
   ]
  },
  {
   "cell_type": "code",
   "execution_count": 23,
   "id": "756c5ef6",
   "metadata": {
    "execution": {
     "iopub.execute_input": "2022-05-10T06:34:29.594088Z",
     "iopub.status.busy": "2022-05-10T06:34:29.593893Z",
     "iopub.status.idle": "2022-05-10T06:34:29.605132Z",
     "shell.execute_reply": "2022-05-10T06:34:29.604508Z"
    },
    "papermill": {
     "duration": 0.056653,
     "end_time": "2022-05-10T06:34:29.606861",
     "exception": false,
     "start_time": "2022-05-10T06:34:29.550208",
     "status": "completed"
    },
    "tags": []
   },
   "outputs": [],
   "source": [
    "model_no_dropout.compile(optimizer=\"rmsprop\", loss = \"categorical_crossentropy\", metrics=[\"accuracy\"])"
   ]
  },
  {
   "cell_type": "code",
   "execution_count": 24,
   "id": "9baf8dd6",
   "metadata": {
    "execution": {
     "iopub.execute_input": "2022-05-10T06:34:29.695248Z",
     "iopub.status.busy": "2022-05-10T06:34:29.695049Z",
     "iopub.status.idle": "2022-05-10T06:34:53.539627Z",
     "shell.execute_reply": "2022-05-10T06:34:53.538767Z"
    },
    "papermill": {
     "duration": 23.891809,
     "end_time": "2022-05-10T06:34:53.541951",
     "exception": false,
     "start_time": "2022-05-10T06:34:29.650142",
     "status": "completed"
    },
    "tags": []
   },
   "outputs": [
    {
     "name": "stderr",
     "output_type": "stream",
     "text": [
      "2022-05-10 06:34:29.978985: I tensorflow/compiler/mlir/mlir_graph_optimization_pass.cc:185] None of the MLIR Optimization Passes are enabled (registered 2)\n"
     ]
    },
    {
     "name": "stdout",
     "output_type": "stream",
     "text": [
      "Epoch 1/10\n"
     ]
    },
    {
     "name": "stderr",
     "output_type": "stream",
     "text": [
      "2022-05-10 06:34:31.254523: I tensorflow/stream_executor/cuda/cuda_dnn.cc:369] Loaded cuDNN version 8005\n"
     ]
    },
    {
     "name": "stdout",
     "output_type": "stream",
     "text": [
      "525/525 - 8s - loss: 0.2411 - accuracy: 0.9256 - val_loss: 0.0877 - val_accuracy: 0.9726\n",
      "Epoch 2/10\n",
      "525/525 - 2s - loss: 0.0689 - accuracy: 0.9780 - val_loss: 0.0632 - val_accuracy: 0.9815\n",
      "Epoch 3/10\n",
      "525/525 - 2s - loss: 0.0468 - accuracy: 0.9852 - val_loss: 0.0511 - val_accuracy: 0.9857\n",
      "Epoch 4/10\n",
      "525/525 - 2s - loss: 0.0349 - accuracy: 0.9888 - val_loss: 0.0501 - val_accuracy: 0.9850\n",
      "Epoch 5/10\n",
      "525/525 - 2s - loss: 0.0265 - accuracy: 0.9916 - val_loss: 0.0579 - val_accuracy: 0.9844\n",
      "Epoch 6/10\n",
      "525/525 - 2s - loss: 0.0218 - accuracy: 0.9930 - val_loss: 0.0551 - val_accuracy: 0.9860\n",
      "Epoch 7/10\n",
      "525/525 - 2s - loss: 0.0176 - accuracy: 0.9940 - val_loss: 0.0597 - val_accuracy: 0.9863\n",
      "Epoch 8/10\n",
      "525/525 - 2s - loss: 0.0139 - accuracy: 0.9955 - val_loss: 0.0701 - val_accuracy: 0.9862\n",
      "Epoch 9/10\n",
      "525/525 - 2s - loss: 0.0112 - accuracy: 0.9962 - val_loss: 0.0673 - val_accuracy: 0.9856\n",
      "Epoch 10/10\n",
      "525/525 - 2s - loss: 0.0097 - accuracy: 0.9971 - val_loss: 0.0645 - val_accuracy: 0.9857\n"
     ]
    }
   ],
   "source": [
    "history_no_dropout = model_no_dropout.fit(x_train, y_train, batch_size=64, epochs=10, validation_data = (x_val, y_val), verbose = 2)"
   ]
  },
  {
   "cell_type": "code",
   "execution_count": 25,
   "id": "4c9675e5",
   "metadata": {
    "execution": {
     "iopub.execute_input": "2022-05-10T06:34:53.643982Z",
     "iopub.status.busy": "2022-05-10T06:34:53.643672Z",
     "iopub.status.idle": "2022-05-10T06:34:53.829722Z",
     "shell.execute_reply": "2022-05-10T06:34:53.829084Z"
    },
    "papermill": {
     "duration": 0.23902,
     "end_time": "2022-05-10T06:34:53.831466",
     "exception": false,
     "start_time": "2022-05-10T06:34:53.592446",
     "status": "completed"
    },
    "tags": []
   },
   "outputs": [
    {
     "data": {
      "image/png": "[encoded data removed]",
      "text/plain": [
       "<Figure size 432x288 with 1 Axes>"
      ]
     },
     "metadata": {
      "needs_background": "light"
     },
     "output_type": "display_data"
    }
   ],
   "source": [
    "loss = history_no_dropout.history['loss']\n",
    "val_loss = history_no_dropout.history['val_loss']\n",
    "epochs = range(1, 11)\n",
    "plt.plot(epochs, loss, label='Training loss')\n",
    "plt.plot(epochs, val_loss, label='Validation loss')\n",
    "plt.title('Training and Validation loss Without Dropouts')\n",
    "plt.xlabel('Epochs')\n",
    "plt.ylabel('Loss')\n",
    "plt.legend()\n",
    "plt.show()"
   ]
  },
  {
   "cell_type": "code",
   "execution_count": 26,
   "id": "13ef59fd",
   "metadata": {
    "execution": {
     "iopub.execute_input": "2022-05-10T06:34:53.935481Z",
     "iopub.status.busy": "2022-05-10T06:34:53.935256Z",
     "iopub.status.idle": "2022-05-10T06:34:54.122259Z",
     "shell.execute_reply": "2022-05-10T06:34:54.121640Z"
    },
    "papermill": {
     "duration": 0.24038,
     "end_time": "2022-05-10T06:34:54.123872",
     "exception": false,
     "start_time": "2022-05-10T06:34:53.883492",
     "status": "completed"
    },
    "tags": []
   },
   "outputs": [
    {
     "data": {
      "image/png": "[encoded data removed]",
      "text/plain": [
       "<Figure size 432x288 with 1 Axes>"
      ]
     },
     "metadata": {
      "needs_background": "light"
     },
     "output_type": "display_data"
    }
   ],
   "source": [
    "acc = history_no_dropout.history['accuracy']\n",
    "val_acc = history_no_dropout.history['val_accuracy']\n",
    "epochs = range(1, 11)\n",
    "plt.plot(epochs, acc, label='Training acc')\n",
    "plt.plot(epochs, val_acc, label='Validation acc')\n",
    "plt.title('Training and Validation acc Without Dropouts')\n",
    "plt.xlabel('Epochs')\n",
    "plt.ylabel('Acc')\n",
    "plt.legend()\n",
    "plt.show()"
   ]
  },
  {
   "cell_type": "code",
   "execution_count": 27,
   "id": "bd45f350",
   "metadata": {
    "execution": {
     "iopub.execute_input": "2022-05-10T06:34:54.228926Z",
     "iopub.status.busy": "2022-05-10T06:34:54.228717Z",
     "iopub.status.idle": "2022-05-10T06:34:54.278510Z",
     "shell.execute_reply": "2022-05-10T06:34:54.277875Z"
    },
    "papermill": {
     "duration": 0.104528,
     "end_time": "2022-05-10T06:34:54.280234",
     "exception": false,
     "start_time": "2022-05-10T06:34:54.175706",
     "status": "completed"
    },
    "tags": []
   },
   "outputs": [],
   "source": [
    "model_with_dropout = Sequential([\n",
    "    Conv2D(filters=64, kernel_size=3,activation='relu',input_shape=(28,28,1)),\n",
    "    MaxPooling2D(pool_size=(2,2)),\n",
    "    Dropout(0.2),\n",
    "    \n",
    "    Conv2D(filters=32, kernel_size=3,activation='relu',input_shape=(28,28,1)),\n",
    "    MaxPooling2D(pool_size=(2,2)),\n",
    "    Dropout(0.2),\n",
    "    \n",
    "    Flatten(),\n",
    "    Dense(64,activation=\"relu\"),\n",
    "    Dropout(0.2),\n",
    "    Dense(10, activation=\"softmax\")\n",
    "])"
   ]
  },
  {
   "cell_type": "code",
   "execution_count": 28,
   "id": "bc1b537c",
   "metadata": {
    "execution": {
     "iopub.execute_input": "2022-05-10T06:34:54.384085Z",
     "iopub.status.busy": "2022-05-10T06:34:54.383893Z",
     "iopub.status.idle": "2022-05-10T06:34:54.393790Z",
     "shell.execute_reply": "2022-05-10T06:34:54.393085Z"
    },
    "papermill": {
     "duration": 0.063636,
     "end_time": "2022-05-10T06:34:54.395458",
     "exception": false,
     "start_time": "2022-05-10T06:34:54.331822",
     "status": "completed"
    },
    "tags": []
   },
   "outputs": [
    {
     "name": "stdout",
     "output_type": "stream",
     "text": [
      "Model: \"sequential_1\"\n",
      "_________________________________________________________________\n",
      "Layer (type)                 Output Shape              Param #   \n",
      "=================================================================\n",
      "conv2d_2 (Conv2D)            (None, 26, 26, 64)        640       \n",
      "_________________________________________________________________\n",
      "max_pooling2d_2 (MaxPooling2 (None, 13, 13, 64)        0         \n",
      "_________________________________________________________________\n",
      "dropout (Dropout)            (None, 13, 13, 64)        0         \n",
      "_________________________________________________________________\n",
      "conv2d_3 (Conv2D)            (None, 11, 11, 32)        18464     \n",
      "_________________________________________________________________\n",
      "max_pooling2d_3 (MaxPooling2 (None, 5, 5, 32)          0         \n",
      "_________________________________________________________________\n",
      "dropout_1 (Dropout)          (None, 5, 5, 32)          0         \n",
      "_________________________________________________________________\n",
      "flatten_1 (Flatten)          (None, 800)               0         \n",
      "_________________________________________________________________\n",
      "dense_2 (Dense)              (None, 64)                51264     \n",
      "_________________________________________________________________\n",
      "dropout_2 (Dropout)          (None, 64)                0         \n",
      "_________________________________________________________________\n",
      "dense_3 (Dense)              (None, 10)                650       \n",
      "=================================================================\n",
      "Total params: 71,018\n",
      "Trainable params: 71,018\n",
      "Non-trainable params: 0\n",
      "_________________________________________________________________\n"
     ]
    }
   ],
   "source": [
    "model_with_dropout.summary()"
   ]
  },
  {
   "cell_type": "code",
   "execution_count": 29,
   "id": "b8596367",
   "metadata": {
    "execution": {
     "iopub.execute_input": "2022-05-10T06:34:54.501337Z",
     "iopub.status.busy": "2022-05-10T06:34:54.501148Z",
     "iopub.status.idle": "2022-05-10T06:34:54.509544Z",
     "shell.execute_reply": "2022-05-10T06:34:54.508885Z"
    },
    "papermill": {
     "duration": 0.063869,
     "end_time": "2022-05-10T06:34:54.511155",
     "exception": false,
     "start_time": "2022-05-10T06:34:54.447286",
     "status": "completed"
    },
    "tags": []
   },
   "outputs": [],
   "source": [
    "model_with_dropout.compile(optimizer=\"rmsprop\", loss = \"categorical_crossentropy\", metrics=[\"accuracy\"])"
   ]
  },
  {
   "cell_type": "code",
   "execution_count": 30,
   "id": "b1695c02",
   "metadata": {
    "execution": {
     "iopub.execute_input": "2022-05-10T06:34:54.616873Z",
     "iopub.status.busy": "2022-05-10T06:34:54.616687Z",
     "iopub.status.idle": "2022-05-10T06:35:15.821380Z",
     "shell.execute_reply": "2022-05-10T06:35:15.820595Z"
    },
    "papermill": {
     "duration": 21.259333,
     "end_time": "2022-05-10T06:35:15.823354",
     "exception": false,
     "start_time": "2022-05-10T06:34:54.564021",
     "status": "completed"
    },
    "tags": []
   },
   "outputs": [
    {
     "name": "stdout",
     "output_type": "stream",
     "text": [
      "Epoch 1/10\n",
      "525/525 - 2s - loss: 0.3428 - accuracy: 0.8925 - val_loss: 0.0983 - val_accuracy: 0.9699\n",
      "Epoch 2/10\n",
      "525/525 - 2s - loss: 0.1176 - accuracy: 0.9642 - val_loss: 0.0629 - val_accuracy: 0.9801\n",
      "Epoch 3/10\n",
      "525/525 - 2s - loss: 0.0827 - accuracy: 0.9732 - val_loss: 0.0553 - val_accuracy: 0.9846\n",
      "Epoch 4/10\n",
      "525/525 - 2s - loss: 0.0663 - accuracy: 0.9800 - val_loss: 0.0434 - val_accuracy: 0.9871\n",
      "Epoch 5/10\n",
      "525/525 - 2s - loss: 0.0574 - accuracy: 0.9816 - val_loss: 0.0461 - val_accuracy: 0.9865\n",
      "Epoch 6/10\n",
      "525/525 - 2s - loss: 0.0528 - accuracy: 0.9832 - val_loss: 0.0401 - val_accuracy: 0.9877\n",
      "Epoch 7/10\n",
      "525/525 - 2s - loss: 0.0501 - accuracy: 0.9843 - val_loss: 0.0470 - val_accuracy: 0.9875\n",
      "Epoch 8/10\n",
      "525/525 - 2s - loss: 0.0454 - accuracy: 0.9854 - val_loss: 0.0391 - val_accuracy: 0.9894\n",
      "Epoch 9/10\n",
      "525/525 - 2s - loss: 0.0430 - accuracy: 0.9867 - val_loss: 0.0377 - val_accuracy: 0.9904\n",
      "Epoch 10/10\n",
      "525/525 - 2s - loss: 0.0375 - accuracy: 0.9879 - val_loss: 0.0386 - val_accuracy: 0.9900\n"
     ]
    }
   ],
   "source": [
    "history_with_dropout = model_with_dropout.fit(x_train, y_train, batch_size=64, epochs=10, validation_data = (x_val, y_val), verbose = 2)"
   ]
  },
  {
   "cell_type": "code",
   "execution_count": 31,
   "id": "adf30e98",
   "metadata": {
    "execution": {
     "iopub.execute_input": "2022-05-10T06:35:15.945010Z",
     "iopub.status.busy": "2022-05-10T06:35:15.944494Z",
     "iopub.status.idle": "2022-05-10T06:35:16.126723Z",
     "shell.execute_reply": "2022-05-10T06:35:16.126063Z"
    },
    "papermill": {
     "duration": 0.245452,
     "end_time": "2022-05-10T06:35:16.128346",
     "exception": false,
     "start_time": "2022-05-10T06:35:15.882894",
     "status": "completed"
    },
    "tags": []
   },
   "outputs": [
    {
     "data": {
      "image/png": "[encoded data removed]",
      "text/plain": [
       "<Figure size 432x288 with 1 Axes>"
      ]
     },
     "metadata": {
      "needs_background": "light"
     },
     "output_type": "display_data"
    }
   ],
   "source": [
    "loss = history_with_dropout.history['loss']\n",
    "val_loss = history_with_dropout.history['val_loss']\n",
    "epochs = range(1, 11)\n",
    "plt.plot(epochs, loss, label='Training loss')\n",
    "plt.plot(epochs, val_loss, label='Validation loss')\n",
    "plt.title('Training and Validation loss With Dropouts')\n",
    "plt.xlabel('Epochs')\n",
    "plt.ylabel('Loss')\n",
    "plt.legend()\n",
    "plt.show()"
   ]
  },
  {
   "cell_type": "code",
   "execution_count": 32,
   "id": "f61bfe32",
   "metadata": {
    "execution": {
     "iopub.execute_input": "2022-05-10T06:35:16.249418Z",
     "iopub.status.busy": "2022-05-10T06:35:16.249192Z",
     "iopub.status.idle": "2022-05-10T06:35:16.431880Z",
     "shell.execute_reply": "2022-05-10T06:35:16.431229Z"
    },
    "papermill": {
     "duration": 0.245041,
     "end_time": "2022-05-10T06:35:16.433507",
     "exception": false,
     "start_time": "2022-05-10T06:35:16.188466",
     "status": "completed"
    },
    "tags": []
   },
   "outputs": [
    {
     "data": {
      "image/png": "[encoded data removed]",
      "text/plain": [
       "<Figure size 432x288 with 1 Axes>"
      ]
     },
     "metadata": {
      "needs_background": "light"
     },
     "output_type": "display_data"
    }
   ],
   "source": [
    "acc = history_no_dropout.history['accuracy']\n",
    "val_acc = history_no_dropout.history['val_accuracy']\n",
    "epochs = range(1, 11)\n",
    "plt.plot(epochs, acc, label='Training acc')\n",
    "plt.plot(epochs, val_acc, label='Validation acc')\n",
    "plt.title('Training and Validation acc With Dropouts')\n",
    "plt.xlabel('Epochs')\n",
    "plt.ylabel('Acc')\n",
    "plt.legend()\n",
    "plt.show()"
   ]
  },
  {
   "cell_type": "markdown",
   "id": "0c7e0f0f",
   "metadata": {
    "papermill": {
     "duration": 0.059317,
     "end_time": "2022-05-10T06:35:16.552681",
     "exception": false,
     "start_time": "2022-05-10T06:35:16.493364",
     "status": "completed"
    },
    "tags": []
   },
   "source": [
    "Data Augmentation"
   ]
  },
  {
   "cell_type": "code",
   "execution_count": 33,
   "id": "8f64edc7",
   "metadata": {
    "execution": {
     "iopub.execute_input": "2022-05-10T06:35:16.673362Z",
     "iopub.status.busy": "2022-05-10T06:35:16.673094Z",
     "iopub.status.idle": "2022-05-10T06:35:16.677733Z",
     "shell.execute_reply": "2022-05-10T06:35:16.676917Z"
    },
    "papermill": {
     "duration": 0.067577,
     "end_time": "2022-05-10T06:35:16.679803",
     "exception": false,
     "start_time": "2022-05-10T06:35:16.612226",
     "status": "completed"
    },
    "tags": []
   },
   "outputs": [],
   "source": [
    "data_gen = ImageDataGenerator(\n",
    "    width_shift_range=0.15,  # randomly shift images horizontally by 15% \n",
    "    height_shift_range=0.15,  # randomly shift images vertically by 15%\n",
    "    rotation_range=15, # rotate image by 15 degrees\n",
    "    zoom_range=0.15, # zoom by 15%\n",
    "    vertical_flip=False,     # randomly flip images vertically is False\n",
    "    horizontal_flip=False     # randomly flip images horizontally is False\n",
    ") "
   ]
  },
  {
   "cell_type": "code",
   "execution_count": 34,
   "id": "2be74dbb",
   "metadata": {
    "execution": {
     "iopub.execute_input": "2022-05-10T06:35:16.801841Z",
     "iopub.status.busy": "2022-05-10T06:35:16.801644Z",
     "iopub.status.idle": "2022-05-10T06:35:16.884327Z",
     "shell.execute_reply": "2022-05-10T06:35:16.883557Z"
    },
    "papermill": {
     "duration": 0.147151,
     "end_time": "2022-05-10T06:35:16.886468",
     "exception": false,
     "start_time": "2022-05-10T06:35:16.739317",
     "status": "completed"
    },
    "tags": []
   },
   "outputs": [],
   "source": [
    "data_gen.fit(x_train)"
   ]
  },
  {
   "cell_type": "code",
   "execution_count": 35,
   "id": "58bf0d70",
   "metadata": {
    "execution": {
     "iopub.execute_input": "2022-05-10T06:35:17.009280Z",
     "iopub.status.busy": "2022-05-10T06:35:17.009040Z",
     "iopub.status.idle": "2022-05-10T06:38:38.966052Z",
     "shell.execute_reply": "2022-05-10T06:38:38.965333Z"
    },
    "papermill": {
     "duration": 202.020331,
     "end_time": "2022-05-10T06:38:38.968244",
     "exception": false,
     "start_time": "2022-05-10T06:35:16.947913",
     "status": "completed"
    },
    "tags": []
   },
   "outputs": [
    {
     "name": "stdout",
     "output_type": "stream",
     "text": [
      "Epoch 1/20\n",
      "525/525 [==============================] - 10s 18ms/step - loss: 0.5127 - accuracy: 0.8452 - val_loss: 0.0540 - val_accuracy: 0.9843\n",
      "Epoch 2/20\n",
      "525/525 [==============================] - 10s 19ms/step - loss: 0.2868 - accuracy: 0.9141 - val_loss: 0.0516 - val_accuracy: 0.9851\n",
      "Epoch 3/20\n",
      "525/525 [==============================] - 10s 19ms/step - loss: 0.2237 - accuracy: 0.9326 - val_loss: 0.0542 - val_accuracy: 0.9843\n",
      "Epoch 4/20\n",
      "525/525 [==============================] - 11s 20ms/step - loss: 0.1986 - accuracy: 0.9403 - val_loss: 0.0471 - val_accuracy: 0.9865\n",
      "Epoch 5/20\n",
      "525/525 [==============================] - 10s 18ms/step - loss: 0.1827 - accuracy: 0.9452 - val_loss: 0.0466 - val_accuracy: 0.9865\n",
      "Epoch 6/20\n",
      "525/525 [==============================] - 10s 19ms/step - loss: 0.1641 - accuracy: 0.9512 - val_loss: 0.0438 - val_accuracy: 0.9874\n",
      "Epoch 7/20\n",
      "525/525 [==============================] - 11s 20ms/step - loss: 0.1591 - accuracy: 0.9524 - val_loss: 0.0458 - val_accuracy: 0.9870\n",
      "Epoch 8/20\n",
      "525/525 [==============================] - 10s 19ms/step - loss: 0.1496 - accuracy: 0.9551 - val_loss: 0.0396 - val_accuracy: 0.9881\n",
      "Epoch 9/20\n",
      "525/525 [==============================] - 9s 18ms/step - loss: 0.1472 - accuracy: 0.9563 - val_loss: 0.0451 - val_accuracy: 0.9880\n",
      "Epoch 10/20\n",
      "525/525 [==============================] - 11s 21ms/step - loss: 0.1460 - accuracy: 0.9561 - val_loss: 0.0444 - val_accuracy: 0.9881\n",
      "Epoch 11/20\n",
      "525/525 [==============================] - 10s 19ms/step - loss: 0.1435 - accuracy: 0.9571 - val_loss: 0.0485 - val_accuracy: 0.9868\n",
      "Epoch 12/20\n",
      "525/525 [==============================] - 9s 18ms/step - loss: 0.1454 - accuracy: 0.9573 - val_loss: 0.0494 - val_accuracy: 0.9868\n",
      "Epoch 13/20\n",
      "525/525 [==============================] - 11s 20ms/step - loss: 0.1365 - accuracy: 0.9597 - val_loss: 0.0459 - val_accuracy: 0.9882\n",
      "Epoch 14/20\n",
      "525/525 [==============================] - 10s 19ms/step - loss: 0.1312 - accuracy: 0.9607 - val_loss: 0.0448 - val_accuracy: 0.9886\n",
      "Epoch 15/20\n",
      "525/525 [==============================] - 10s 18ms/step - loss: 0.1303 - accuracy: 0.9614 - val_loss: 0.0429 - val_accuracy: 0.9896\n",
      "Epoch 16/20\n",
      "525/525 [==============================] - 11s 22ms/step - loss: 0.1337 - accuracy: 0.9615 - val_loss: 0.0452 - val_accuracy: 0.9893\n",
      "Epoch 17/20\n",
      "525/525 [==============================] - 10s 18ms/step - loss: 0.1311 - accuracy: 0.9618 - val_loss: 0.0406 - val_accuracy: 0.9894\n",
      "Epoch 18/20\n",
      "525/525 [==============================] - 10s 19ms/step - loss: 0.1323 - accuracy: 0.9621 - val_loss: 0.0447 - val_accuracy: 0.9899\n",
      "Epoch 19/20\n",
      "525/525 [==============================] - 11s 21ms/step - loss: 0.1280 - accuracy: 0.9636 - val_loss: 0.0443 - val_accuracy: 0.9892\n",
      "Epoch 20/20\n",
      "525/525 [==============================] - 10s 18ms/step - loss: 0.1335 - accuracy: 0.9616 - val_loss: 0.0469 - val_accuracy: 0.9898\n"
     ]
    }
   ],
   "source": [
    "history_with_dropout_gen = model_with_dropout.fit(data_gen.flow(x_train,y_train,batch_size=64),epochs=20,validation_data=(x_val,y_val))"
   ]
  },
  {
   "cell_type": "code",
   "execution_count": 36,
   "id": "e5dadc75",
   "metadata": {
    "execution": {
     "iopub.execute_input": "2022-05-10T06:38:41.106591Z",
     "iopub.status.busy": "2022-05-10T06:38:41.106219Z",
     "iopub.status.idle": "2022-05-10T06:38:41.311182Z",
     "shell.execute_reply": "2022-05-10T06:38:41.310369Z"
    },
    "papermill": {
     "duration": 1.275941,
     "end_time": "2022-05-10T06:38:41.313296",
     "exception": false,
     "start_time": "2022-05-10T06:38:40.037355",
     "status": "completed"
    },
    "tags": []
   },
   "outputs": [
    {
     "data": {
      "image/png": "[encoded data removed]",
      "text/plain": [
       "<Figure size 432x288 with 1 Axes>"
      ]
     },
     "metadata": {
      "needs_background": "light"
     },
     "output_type": "display_data"
    }
   ],
   "source": [
    "loss = history_with_dropout_gen.history['loss']\n",
    "val_loss = history_with_dropout_gen.history['val_loss']\n",
    "epochs = range(1, 21)\n",
    "plt.plot(epochs, loss, label='Training loss')\n",
    "plt.plot(epochs, val_loss, label='Validation loss')\n",
    "plt.title('Training and Validation loss With Dropouts')\n",
    "plt.xlabel('Epochs')\n",
    "plt.ylabel('Loss')\n",
    "plt.legend()\n",
    "plt.show()"
   ]
  },
  {
   "cell_type": "code",
   "execution_count": 37,
   "id": "ed8cc0ad",
   "metadata": {
    "execution": {
     "iopub.execute_input": "2022-05-10T06:38:43.501898Z",
     "iopub.status.busy": "2022-05-10T06:38:43.501646Z",
     "iopub.status.idle": "2022-05-10T06:38:43.699516Z",
     "shell.execute_reply": "2022-05-10T06:38:43.698851Z"
    },
    "papermill": {
     "duration": 1.268551,
     "end_time": "2022-05-10T06:38:43.701173",
     "exception": false,
     "start_time": "2022-05-10T06:38:42.432622",
     "status": "completed"
    },
    "tags": []
   },
   "outputs": [
    {
     "data": {
      "image/png": "[encoded data removed]",
      "text/plain": [
       "<Figure size 432x288 with 1 Axes>"
      ]
     },
     "metadata": {
      "needs_background": "light"
     },
     "output_type": "display_data"
    }
   ],
   "source": [
    "acc = history_with_dropout_gen.history['accuracy']\n",
    "val_acc = history_with_dropout_gen.history['val_accuracy']\n",
    "epochs = range(1, 21)\n",
    "plt.plot(epochs, acc, label='Training acc')\n",
    "plt.plot(epochs, val_acc, label='Validation acc')\n",
    "plt.title('Training and Validation acc With Dropouts')\n",
    "plt.xlabel('Epochs')\n",
    "plt.ylabel('Acc')\n",
    "plt.legend()\n",
    "plt.show()"
   ]
  },
  {
   "cell_type": "code",
   "execution_count": 38,
   "id": "235a8189",
   "metadata": {
    "execution": {
     "iopub.execute_input": "2022-05-10T06:38:45.846370Z",
     "iopub.status.busy": "2022-05-10T06:38:45.845524Z",
     "iopub.status.idle": "2022-05-10T06:38:46.286312Z",
     "shell.execute_reply": "2022-05-10T06:38:46.285557Z"
    },
    "papermill": {
     "duration": 1.51284,
     "end_time": "2022-05-10T06:38:46.288381",
     "exception": false,
     "start_time": "2022-05-10T06:38:44.775541",
     "status": "completed"
    },
    "tags": []
   },
   "outputs": [],
   "source": [
    "y_pred = model_with_dropout.predict(x_val)\n",
    "y_pred_classes = np.argmax(y_pred,axis=1)\n",
    "y_val_classes = np.argmax(y_val,axis=1)"
   ]
  },
  {
   "cell_type": "code",
   "execution_count": 39,
   "id": "201a4398",
   "metadata": {
    "execution": {
     "iopub.execute_input": "2022-05-10T06:38:48.604463Z",
     "iopub.status.busy": "2022-05-10T06:38:48.604145Z",
     "iopub.status.idle": "2022-05-10T06:38:49.135276Z",
     "shell.execute_reply": "2022-05-10T06:38:49.134559Z"
    },
    "papermill": {
     "duration": 1.777818,
     "end_time": "2022-05-10T06:38:49.137147",
     "exception": false,
     "start_time": "2022-05-10T06:38:47.359329",
     "status": "completed"
    },
    "tags": []
   },
   "outputs": [
    {
     "data": {
      "image/png": "[encoded data removed]",
      "text/plain": [
       "<Figure size 432x288 with 2 Axes>"
      ]
     },
     "metadata": {
      "needs_background": "light"
     },
     "output_type": "display_data"
    }
   ],
   "source": [
    "cm = confusion_matrix(y_val_classes,y_pred_classes)\n",
    "disp = ConfusionMatrixDisplay(confusion_matrix=cm)\n",
    "disp.plot()\n",
    "plt.show()"
   ]
  },
  {
   "cell_type": "code",
   "execution_count": 40,
   "id": "23b323ce",
   "metadata": {
    "execution": {
     "iopub.execute_input": "2022-05-10T06:38:51.294722Z",
     "iopub.status.busy": "2022-05-10T06:38:51.294259Z",
     "iopub.status.idle": "2022-05-10T06:38:52.837345Z",
     "shell.execute_reply": "2022-05-10T06:38:52.836593Z"
    },
    "papermill": {
     "duration": 2.629726,
     "end_time": "2022-05-10T06:38:52.839553",
     "exception": false,
     "start_time": "2022-05-10T06:38:50.209827",
     "status": "completed"
    },
    "tags": []
   },
   "outputs": [],
   "source": [
    "results = model_with_dropout.predict(norm_test_data)\n",
    "results = np.argmax(results,axis = 1)"
   ]
  },
  {
   "cell_type": "code",
   "execution_count": 41,
   "id": "b3c0fae6",
   "metadata": {
    "execution": {
     "iopub.execute_input": "2022-05-10T06:38:55.015375Z",
     "iopub.status.busy": "2022-05-10T06:38:55.015119Z",
     "iopub.status.idle": "2022-05-10T06:38:55.030062Z",
     "shell.execute_reply": "2022-05-10T06:38:55.029366Z"
    },
    "papermill": {
     "duration": 1.123783,
     "end_time": "2022-05-10T06:38:55.031793",
     "exception": false,
     "start_time": "2022-05-10T06:38:53.908010",
     "status": "completed"
    },
    "tags": []
   },
   "outputs": [],
   "source": [
    "submit = pd.DataFrame({\"ImageId\":list(range(1,len(results)+1)), \"Label\":results})"
   ]
  },
  {
   "cell_type": "code",
   "execution_count": 42,
   "id": "6a6ac172",
   "metadata": {
    "execution": {
     "iopub.execute_input": "2022-05-10T06:38:57.187016Z",
     "iopub.status.busy": "2022-05-10T06:38:57.186735Z",
     "iopub.status.idle": "2022-05-10T06:38:57.237766Z",
     "shell.execute_reply": "2022-05-10T06:38:57.237077Z"
    },
    "papermill": {
     "duration": 1.135239,
     "end_time": "2022-05-10T06:38:57.239511",
     "exception": false,
     "start_time": "2022-05-10T06:38:56.104272",
     "status": "completed"
    },
    "tags": []
   },
   "outputs": [],
   "source": [
    "submit.to_csv(\"submision.csv\",index=False)"
   ]
  }
 ],
 "metadata": {
  "kernelspec": {
   "display_name": "Python 3",
   "language": "python",
   "name": "python3"
  },
  "language_info": {
   "codemirror_mode": {
    "name": "ipython",
    "version": 3
   },
   "file_extension": ".py",
   "mimetype": "text/x-python",
   "name": "python",
   "nbconvert_exporter": "python",
   "pygments_lexer": "ipython3",
   "version": "3.7.12"
  },
  "papermill": {
   "default_parameters": {},
   "duration": 297.727806,
   "end_time": "2022-05-10T06:39:01.236050",
   "environment_variables": {},
   "exception": null,
   "input_path": "__notebook__.ipynb",
   "output_path": "__notebook__.ipynb",
   "parameters": {},
   "start_time": "2022-05-10T06:34:03.508244",
   "version": "2.3.4"
  }
 },
 "nbformat": 4,
 "nbformat_minor": 5
}
